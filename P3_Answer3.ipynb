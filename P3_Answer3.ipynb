{
  "nbformat": 4,
  "nbformat_minor": 0,
  "metadata": {
    "colab": {
      "name": "P3-Answer3.ipynb",
      "provenance": [],
      "collapsed_sections": [],
      "authorship_tag": "ABX9TyMhL6gH2ngFwFUlTDuEbkpb",
      "include_colab_link": true
    },
    "kernelspec": {
      "name": "python3",
      "display_name": "Python 3"
    }
  },
  "cells": [
    {
      "cell_type": "markdown",
      "metadata": {
        "id": "view-in-github",
        "colab_type": "text"
      },
      "source": [
        "<a href=\"https://colab.research.google.com/github/divyanshipandita/BOBBLE-AI/blob/master/P3_Answer3.ipynb\" target=\"_parent\"><img src=\"https://colab.research.google.com/assets/colab-badge.svg\" alt=\"Open In Colab\"/></a>"
      ]
    },
    {
      "cell_type": "code",
      "metadata": {
        "id": "K_cH6G_k6hq_",
        "outputId": "197c38f0-fdba-4e4b-fdb0-5761259ae2fc",
        "colab": {
          "base_uri": "https://localhost:8080/",
          "height": 102
        }
      },
      "source": [
        "def changeRowColumn(mat, M, N, x, y):\n",
        "  for j in range(N):\n",
        "    if mat[x][j]:\n",
        "      mat[x][j] = -1\n",
        "  for i in range(M):\n",
        "    if mat[i][y]:\n",
        "      mat[i][y] = -1\n",
        "\n",
        "def convert(mat):\n",
        "  (M, N) = (len(mat), len(mat[0]))\n",
        "  for i in range(M):\n",
        "    for j in range(N):\n",
        "      if mat[i][j] == 0:\n",
        "        changeRowColumn(mat, M, N, i, j)\n",
        "  for i in range(M):\n",
        "    for j in range(N):\n",
        "      if mat[i][j] == -1:\n",
        "        mat[i][j] = 0\n",
        "\n",
        "if __name__ == '__main__':\n",
        "\n",
        "  mat = [\n",
        "         [1, 1, 0, 1, 1],\n",
        "         [1, 1, 1, 1, 1],\n",
        "         [1, 1, 0, 1, 1],\n",
        "         [1, 1, 1, 1, 1],\n",
        "         [0, 1, 1, 1, 1]\n",
        "         ]\n",
        "\n",
        "  convert(mat)\n",
        "  for r in mat:\n",
        "    print(r)\n"
      ],
      "execution_count": 15,
      "outputs": [
        {
          "output_type": "stream",
          "text": [
            "[0, 0, 0, 0, 0]\n",
            "[0, 1, 0, 1, 1]\n",
            "[0, 0, 0, 0, 0]\n",
            "[0, 1, 0, 1, 1]\n",
            "[0, 0, 0, 0, 0]\n"
          ],
          "name": "stdout"
        }
      ]
    }
  ]
}